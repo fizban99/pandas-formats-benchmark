{
  "cells": [
    {
      "cell_type": "markdown",
      "metadata": {
        "id": "4xtHA7DbFEXy"
      },
      "source": [
        "# The Best Format to Save Pandas Data"
      ]
    },
    {
      "cell_type": "code",
      "execution_count": 1,
      "metadata": {
        "id": "8F4HRZLUFEX0"
      },
      "outputs": [],
      "source": [
        "%matplotlib inline\n",
        "%reload_ext autoreload\n",
        "%autoreload 2"
      ]
    },
    {
      "cell_type": "code",
      "execution_count": 2,
      "metadata": {
        "id": "U9YeXEzRFEX2"
      },
      "outputs": [],
      "source": [
        "from collections import defaultdict\n",
        "import os"
      ]
    },
    {
      "cell_type": "code",
      "execution_count": 3,
      "metadata": {
        "id": "gsiNvzwHFEX4"
      },
      "outputs": [],
      "source": [
        "import feather\n",
        "import numpy as np\n",
        "import pandas as pd\n",
        "import seaborn as sns"
      ]
    },
    {
      "cell_type": "code",
      "execution_count": 4,
      "metadata": {
        "id": "IX-8fuT9FEX5"
      },
      "outputs": [],
      "source": [
        "import gc\n",
        "from multiprocessing import Process, Event, Value\n",
        "import os\n",
        "import time\n",
        "from timeit import default_timer\n",
        "\n",
        "import matplotlib.pyplot as plt\n",
        "import numpy as np\n",
        "import psutil\n",
        "\n",
        "\n",
        "class Timer:\n",
        "    \"\"\"Simple util to measure execution time.\n",
        "    Examples\n",
        "    --------\n",
        "    >>> import time\n",
        "    >>> with Timer() as timer:\n",
        "    ...     time.sleep(1)\n",
        "    >>> print(timer)\n",
        "    00:00:01\n",
        "    \"\"\"\n",
        "    def __init__(self):\n",
        "        self.start = None\n",
        "        self.elapsed = None\n",
        "\n",
        "    def __enter__(self):\n",
        "        self.start = default_timer()\n",
        "        return self\n",
        "\n",
        "    def __exit__(self, exc_type, exc_val, exc_tb):\n",
        "        self.elapsed = default_timer() - self.start\n",
        "\n",
        "    def __str__(self):\n",
        "        return self.verbose()\n",
        "\n",
        "    def __float__(self):\n",
        "        return self.elapsed\n",
        "\n",
        "    def verbose(self):\n",
        "        if self.elapsed is None:\n",
        "            return '<not-measured>'\n",
        "        return self.format_elapsed_time(self.elapsed)\n",
        "\n",
        "    @staticmethod\n",
        "    def format_elapsed_time(value: float):\n",
        "        return time.strftime('%H:%M:%S', time.gmtime(value))\n",
        "    \n",
        "    \n",
        "class MemoryTrackingProcess(Process):\n",
        "    \"\"\"A process that periodically measures the amount of RAM consumed by another process.\n",
        "    \n",
        "    This process is stopped as soon as the event is set.\n",
        "    \"\"\"\n",
        "    def __init__(self, pid, event, **kwargs):\n",
        "        super().__init__()\n",
        "        self.p = psutil.Process(pid)\n",
        "        self.event = event\n",
        "        self.max_mem = Value('f', 0.0)\n",
        "        \n",
        "    def run(self):\n",
        "        mem_usage = []\n",
        "        while not self.event.is_set():\n",
        "            info = self.p.memory_info()\n",
        "            mem_bytes = info.rss\n",
        "            mem_usage.append(mem_bytes)\n",
        "            time.sleep(0.05)\n",
        "        self.max_mem.value = np.max(mem_usage)\n",
        "\n",
        "\n",
        "class MemoryTracker:\n",
        "    \"\"\"A context manager that runs MemoryTrackingProcess in background and collects \n",
        "    the information about used memory when the context is exited.\n",
        "    \"\"\"\n",
        "    def __init__(self, pid=None):\n",
        "        pid = pid or os.getpid()\n",
        "        self.start_mem = psutil.Process(pid).memory_info().rss\n",
        "        self.event = Event()\n",
        "        self.p = MemoryTrackingProcess(pid, self.event)\n",
        "    \n",
        "    @property\n",
        "    def memory(self):\n",
        "        return self.p.max_mem.value - self.start_mem\n",
        "    \n",
        "    def __enter__(self):\n",
        "        self.p.start()\n",
        "        return self\n",
        "    \n",
        "    def __exit__(self, exc_type, exc_val, exc_tb):\n",
        "        self.event.set()\n",
        "        self.p.join()\n",
        "\n",
        "        \n",
        "class GC:\n",
        "    def __enter__(self):\n",
        "        return self\n",
        "    def __exit__(self, exc_type, exc_val, ext_tb):\n",
        "        self.collected = gc.collect()\n",
        "        \n",
        "\n",
        "class VisualStyle:\n",
        "    def __init__(self, config, default=None):\n",
        "        if default is None:\n",
        "            default = plt.rcParams\n",
        "        self.default = default.copy()\n",
        "        self.config = config\n",
        "        \n",
        "    def replace(self):\n",
        "        plt.rcParams = self.config\n",
        "    \n",
        "    def override(self, extra=None):\n",
        "        plt.rcParams.update(self.config)\n",
        "        if extra is not None:\n",
        "            plt.rcParams.update(extra)\n",
        "\n",
        "    def restore(self):\n",
        "        plt.rcParams = self.default\n",
        "\n",
        "\n",
        "class NotebookStyle(VisualStyle):\n",
        "    def __init__(self):\n",
        "        super().__init__({\n",
        "            'figure.figsize': (11, 8),\n",
        "            'axes.titlesize': 20,\n",
        "            'axes.labelsize': 18,\n",
        "            'xtick.labelsize': 14,\n",
        "            'ytick.labelsize': 14,\n",
        "            'font.size': 16\n",
        "        })"
      ]
    },
    {
      "cell_type": "code",
      "execution_count": 5,
      "metadata": {
        "id": "hZldY3AGFEX6"
      },
      "outputs": [],
      "source": [
        "style = NotebookStyle()\n",
        "style.override({'grid.color': 'lightgray'})"
      ]
    },
    {
      "cell_type": "markdown",
      "metadata": {
        "id": "Sa4raM60FEX7"
      },
      "source": [
        "## Random Dataset"
      ]
    },
    {
      "cell_type": "code",
      "execution_count": 6,
      "metadata": {
        "id": "VRQ9xiyUFEX8"
      },
      "outputs": [],
      "source": [
        "def generate_dataset(n_rows, num_count, cat_count, max_nan=0.1, max_cat_size=100):\n",
        "    \"\"\"Randomly generate datasets with numerical and categorical features.\n",
        "    \n",
        "    The numerical features are taken from the normal distribution X ~ N(0, 1).\n",
        "    The categorical features are generated as random uuid4 strings with \n",
        "    cardinality C where 2 <= C <= max_cat_size.\n",
        "    \n",
        "    Also, a max_nan proportion of both numerical and categorical features is replaces\n",
        "    with NaN values.\n",
        "    \"\"\"\n",
        "    dataset, types = {}, {}\n",
        "    \n",
        "    def generate_categories():\n",
        "        # from uuid import uuid4\n",
        "        category_size = np.random.randint(2, max_cat_size)\n",
        "        data_strings = pd.util.testing.rands_array(36, size=category_size)\n",
        "        return data_strings\n",
        "        # return [str(uuid4()) for _ in range(category_size)]\n",
        "    \n",
        "    for col in range(num_count):\n",
        "        name = f'n{col}'\n",
        "        values = np.random.normal(0, 1, n_rows)\n",
        "        nan_cnt = np.random.randint(1, int(max_nan*n_rows))\n",
        "        index = np.random.choice(n_rows, nan_cnt, replace=False)\n",
        "        # values[index] = np.nan\n",
        "        dataset[name] = values\n",
        "        types[name] = 'float32'\n",
        "        \n",
        "    for col in range(cat_count):\n",
        "        name = f'c{col}'\n",
        "        cats = generate_categories()\n",
        "        values = np.array(np.random.choice(cats, n_rows, replace=True), dtype=object)\n",
        "        nan_cnt = np.random.randint(1, int(max_nan*n_rows))\n",
        "        index = np.random.choice(n_rows, nan_cnt, replace=False)\n",
        "        # values[index] = np.nan\n",
        "        dataset[name] = values\n",
        "        types[name] = 'object'\n",
        "    \n",
        "    return pd.DataFrame(dataset), types"
      ]
    },
    {
      "cell_type": "markdown",
      "metadata": {
        "id": "sc9aLBugFEX-"
      },
      "source": [
        "## Benchmarking"
      ]
    },
    {
      "cell_type": "code",
      "execution_count": 7,
      "metadata": {
        "id": "Sjk5v5dDFEYA"
      },
      "outputs": [],
      "source": [
        "def size_of(filename, unit=1024**2):\n",
        "    return round(os.stat(filename).st_size / unit, 2)"
      ]
    },
    {
      "cell_type": "code",
      "source": [
        "from uuid import uuid4\n",
        "len(str(uuid4()))"
      ],
      "metadata": {
        "id": "xvK2nMaCGJzv",
        "outputId": "6d42137f-7cc9-4f80-9d11-a56f68248ed5",
        "colab": {
          "base_uri": "https://localhost:8080/"
        }
      },
      "execution_count": 8,
      "outputs": [
        {
          "output_type": "execute_result",
          "data": {
            "text/plain": [
              "36"
            ]
          },
          "metadata": {},
          "execution_count": 8
        }
      ]
    },
    {
      "cell_type": "code",
      "execution_count": 10,
      "metadata": {
        "id": "B90Pp2gVFEYB"
      },
      "outputs": [],
      "source": [
        "def get_save_load(df, fmt):\n",
        "    save = getattr(df, f'to_{fmt}')\n",
        "    load = feather.read_dataframe if fmt == 'feather' else getattr(pd, f'read_{fmt}')\n",
        "    return save, load"
      ]
    },
    {
      "cell_type": "code",
      "execution_count": 11,
      "metadata": {
        "id": "dYbteyswFEYC"
      },
      "outputs": [],
      "source": [
        "def benchmark(list_of_formats, data_size=1_000_000, n_num=15, n_cat=15, n_rounds=5,\n",
        "              as_category=False):\n",
        "    \"\"\"Runs dataset saving/loading benchamrk using formts from the list_of_formats.\n",
        "    \n",
        "    Each round a new random dataset is generated with data_size observations. \n",
        "    The measurements for each of the rounds are concatenated together and returned\n",
        "    as a single data frame.\n",
        "    \n",
        "    Parameters:\n",
        "        list_of_formats: A list of tuples in the format (<format_name>, [<params_dict>]). \n",
        "            The <format_name> should be one of the pandas supported formats.\n",
        "        data_size: A number of samples in the generated dataset.\n",
        "        n_num: A number of numerical columns in the generated dataset.\n",
        "        n_cat: A number of categorical columns in the generated dataset.\n",
        "        n_rounds: A number of randomly generated datasets to test the formats.\n",
        "        as_category: If True, then categorical columns will be converted into \n",
        "            pandas.Category type before saving.\n",
        "            \n",
        "    \"\"\"\n",
        "    runs = []\n",
        "    \n",
        "    for i in range(n_rounds):\n",
        "        print(f'Benchmarking round #{i + 1:d}')\n",
        "        print('\\tgenerating dataset...')\n",
        "        dataset, _ = generate_dataset(data_size, n_num, n_cat)\n",
        "        \n",
        "        if as_category:\n",
        "            print('\\tconverting categorical columns into pandas.Category')\n",
        "            cat_cols = dataset.select_dtypes(include=object).columns\n",
        "            dataset[cat_cols] = dataset[cat_cols].fillna('none').astype('category')\n",
        "        \n",
        "        benchmark = []\n",
        "        \n",
        "        for case in list_of_formats:\n",
        "            fmt, params = case if len(case) == 2 else (case[0], {})\n",
        "            \n",
        "            with GC():\n",
        "                print('\\ttesting format:', fmt)\n",
        "                filename = f'random.{fmt}'\n",
        "                save, load = get_save_load(dataset, fmt)\n",
        "                results = defaultdict(int)\n",
        "                results['format'] = fmt\n",
        "                results['filename'] = filename\n",
        "                \n",
        "                with MemoryTracker() as tracker:\n",
        "                    with Timer() as timer:\n",
        "                        save(filename, **params)\n",
        "                results['size_mb'] = size_of(filename)\n",
        "                results['save_ram_delta_mb'] = tracker.memory / (1024 ** 2)\n",
        "                results['save_time'] = float(timer)\n",
        "                \n",
        "                with MemoryTracker() as tracker:\n",
        "                    with Timer() as timer:\n",
        "                        _ = load(filename)\n",
        "                results['load_ram_delta_mb'] = tracker.memory / (1024 ** 2)\n",
        "                results['load_time'] = float(timer)\n",
        "                \n",
        "                benchmark.append(results)\n",
        "                \n",
        "            run = pd.DataFrame(benchmark)\n",
        "            run['run_no'] = i\n",
        "            runs.append(run)\n",
        "            \n",
        "    benchmark = pd.concat(runs, axis=0)\n",
        "    benchmark.reset_index(inplace=True, drop=True)\n",
        "    return benchmark"
      ]
    },
    {
      "cell_type": "markdown",
      "source": [
        ""
      ],
      "metadata": {
        "id": "HTJFHh9nQTNL"
      }
    },
    {
      "cell_type": "markdown",
      "metadata": {
        "id": "3rNN2nDBFEYD"
      },
      "source": [
        "### CSV Baseline"
      ]
    },
    {
      "cell_type": "code",
      "execution_count": 13,
      "metadata": {
        "id": "YvrkcpZUFEYE"
      },
      "outputs": [],
      "source": [
        "formats = [('csv', {'index': None})]"
      ]
    },
    {
      "cell_type": "code",
      "execution_count": 14,
      "metadata": {
        "id": "qOkPy-dlFEYE",
        "outputId": "e137b51b-47d7-40f7-a889-129a8b3bd4f4",
        "colab": {
          "base_uri": "https://localhost:8080/"
        }
      },
      "outputs": [
        {
          "output_type": "stream",
          "name": "stdout",
          "text": [
            "Benchmarking round #1\n",
            "\tgenerating dataset...\n"
          ]
        },
        {
          "output_type": "stream",
          "name": "stderr",
          "text": [
            "/usr/local/lib/python3.7/dist-packages/pandas/util/__init__.py:15: FutureWarning: pandas.util.testing is deprecated. Use the functions in the public API at pandas.testing instead.\n",
            "  import pandas.util.testing\n"
          ]
        },
        {
          "output_type": "stream",
          "name": "stdout",
          "text": [
            "\ttesting format: csv\n",
            "Benchmarking round #2\n",
            "\tgenerating dataset...\n",
            "\ttesting format: csv\n"
          ]
        }
      ],
      "source": [
        "csv_results = benchmark(formats, n_rounds=2)"
      ]
    },
    {
      "cell_type": "code",
      "execution_count": 15,
      "metadata": {
        "id": "JEJjm0rCFEYF"
      },
      "outputs": [],
      "source": [
        "csv_results.to_feather('baseline.feather')"
      ]
    },
    {
      "cell_type": "code",
      "execution_count": 16,
      "metadata": {
        "id": "TDu4xUlGFEYF"
      },
      "outputs": [],
      "source": [
        "baseline = feather.read_dataframe('baseline.feather')"
      ]
    },
    {
      "cell_type": "code",
      "execution_count": 17,
      "metadata": {
        "id": "-Vsf5hy-FEYG",
        "outputId": "a96621ea-5590-46b7-816f-d2562c4fb763",
        "colab": {
          "base_uri": "https://localhost:8080/",
          "height": 112
        }
      },
      "outputs": [
        {
          "output_type": "execute_result",
          "data": {
            "text/plain": [
              "  format    filename  size_mb  save_ram_delta_mb  save_time  \\\n",
              "0    csv  random.csv   810.12           5.121094  40.035170   \n",
              "1    csv  random.csv   810.12           1.347656  46.521314   \n",
              "\n",
              "   load_ram_delta_mb  load_time  run_no  \n",
              "0         437.367188  12.663160       0  \n",
              "1         371.980469  12.242904       1  "
            ],
            "text/html": [
              "\n",
              "  <div id=\"df-68af03eb-5e7e-42ec-b018-74db7fc4a768\">\n",
              "    <div class=\"colab-df-container\">\n",
              "      <div>\n",
              "<style scoped>\n",
              "    .dataframe tbody tr th:only-of-type {\n",
              "        vertical-align: middle;\n",
              "    }\n",
              "\n",
              "    .dataframe tbody tr th {\n",
              "        vertical-align: top;\n",
              "    }\n",
              "\n",
              "    .dataframe thead th {\n",
              "        text-align: right;\n",
              "    }\n",
              "</style>\n",
              "<table border=\"1\" class=\"dataframe\">\n",
              "  <thead>\n",
              "    <tr style=\"text-align: right;\">\n",
              "      <th></th>\n",
              "      <th>format</th>\n",
              "      <th>filename</th>\n",
              "      <th>size_mb</th>\n",
              "      <th>save_ram_delta_mb</th>\n",
              "      <th>save_time</th>\n",
              "      <th>load_ram_delta_mb</th>\n",
              "      <th>load_time</th>\n",
              "      <th>run_no</th>\n",
              "    </tr>\n",
              "  </thead>\n",
              "  <tbody>\n",
              "    <tr>\n",
              "      <th>0</th>\n",
              "      <td>csv</td>\n",
              "      <td>random.csv</td>\n",
              "      <td>810.12</td>\n",
              "      <td>5.121094</td>\n",
              "      <td>40.035170</td>\n",
              "      <td>437.367188</td>\n",
              "      <td>12.663160</td>\n",
              "      <td>0</td>\n",
              "    </tr>\n",
              "    <tr>\n",
              "      <th>1</th>\n",
              "      <td>csv</td>\n",
              "      <td>random.csv</td>\n",
              "      <td>810.12</td>\n",
              "      <td>1.347656</td>\n",
              "      <td>46.521314</td>\n",
              "      <td>371.980469</td>\n",
              "      <td>12.242904</td>\n",
              "      <td>1</td>\n",
              "    </tr>\n",
              "  </tbody>\n",
              "</table>\n",
              "</div>\n",
              "      <button class=\"colab-df-convert\" onclick=\"convertToInteractive('df-68af03eb-5e7e-42ec-b018-74db7fc4a768')\"\n",
              "              title=\"Convert this dataframe to an interactive table.\"\n",
              "              style=\"display:none;\">\n",
              "        \n",
              "  <svg xmlns=\"http://www.w3.org/2000/svg\" height=\"24px\"viewBox=\"0 0 24 24\"\n",
              "       width=\"24px\">\n",
              "    <path d=\"M0 0h24v24H0V0z\" fill=\"none\"/>\n",
              "    <path d=\"M18.56 5.44l.94 2.06.94-2.06 2.06-.94-2.06-.94-.94-2.06-.94 2.06-2.06.94zm-11 1L8.5 8.5l.94-2.06 2.06-.94-2.06-.94L8.5 2.5l-.94 2.06-2.06.94zm10 10l.94 2.06.94-2.06 2.06-.94-2.06-.94-.94-2.06-.94 2.06-2.06.94z\"/><path d=\"M17.41 7.96l-1.37-1.37c-.4-.4-.92-.59-1.43-.59-.52 0-1.04.2-1.43.59L10.3 9.45l-7.72 7.72c-.78.78-.78 2.05 0 2.83L4 21.41c.39.39.9.59 1.41.59.51 0 1.02-.2 1.41-.59l7.78-7.78 2.81-2.81c.8-.78.8-2.07 0-2.86zM5.41 20L4 18.59l7.72-7.72 1.47 1.35L5.41 20z\"/>\n",
              "  </svg>\n",
              "      </button>\n",
              "      \n",
              "  <style>\n",
              "    .colab-df-container {\n",
              "      display:flex;\n",
              "      flex-wrap:wrap;\n",
              "      gap: 12px;\n",
              "    }\n",
              "\n",
              "    .colab-df-convert {\n",
              "      background-color: #E8F0FE;\n",
              "      border: none;\n",
              "      border-radius: 50%;\n",
              "      cursor: pointer;\n",
              "      display: none;\n",
              "      fill: #1967D2;\n",
              "      height: 32px;\n",
              "      padding: 0 0 0 0;\n",
              "      width: 32px;\n",
              "    }\n",
              "\n",
              "    .colab-df-convert:hover {\n",
              "      background-color: #E2EBFA;\n",
              "      box-shadow: 0px 1px 2px rgba(60, 64, 67, 0.3), 0px 1px 3px 1px rgba(60, 64, 67, 0.15);\n",
              "      fill: #174EA6;\n",
              "    }\n",
              "\n",
              "    [theme=dark] .colab-df-convert {\n",
              "      background-color: #3B4455;\n",
              "      fill: #D2E3FC;\n",
              "    }\n",
              "\n",
              "    [theme=dark] .colab-df-convert:hover {\n",
              "      background-color: #434B5C;\n",
              "      box-shadow: 0px 1px 3px 1px rgba(0, 0, 0, 0.15);\n",
              "      filter: drop-shadow(0px 1px 2px rgba(0, 0, 0, 0.3));\n",
              "      fill: #FFFFFF;\n",
              "    }\n",
              "  </style>\n",
              "\n",
              "      <script>\n",
              "        const buttonEl =\n",
              "          document.querySelector('#df-68af03eb-5e7e-42ec-b018-74db7fc4a768 button.colab-df-convert');\n",
              "        buttonEl.style.display =\n",
              "          google.colab.kernel.accessAllowed ? 'block' : 'none';\n",
              "\n",
              "        async function convertToInteractive(key) {\n",
              "          const element = document.querySelector('#df-68af03eb-5e7e-42ec-b018-74db7fc4a768');\n",
              "          const dataTable =\n",
              "            await google.colab.kernel.invokeFunction('convertToInteractive',\n",
              "                                                     [key], {});\n",
              "          if (!dataTable) return;\n",
              "\n",
              "          const docLinkHtml = 'Like what you see? Visit the ' +\n",
              "            '<a target=\"_blank\" href=https://colab.research.google.com/notebooks/data_table.ipynb>data table notebook</a>'\n",
              "            + ' to learn more about interactive tables.';\n",
              "          element.innerHTML = '';\n",
              "          dataTable['output_type'] = 'display_data';\n",
              "          await google.colab.output.renderOutput(dataTable, element);\n",
              "          const docLink = document.createElement('div');\n",
              "          docLink.innerHTML = docLinkHtml;\n",
              "          element.appendChild(docLink);\n",
              "        }\n",
              "      </script>\n",
              "    </div>\n",
              "  </div>\n",
              "  "
            ]
          },
          "metadata": {},
          "execution_count": 17
        }
      ],
      "source": [
        "baseline"
      ]
    },
    {
      "cell_type": "markdown",
      "metadata": {
        "id": "v1A9ne1IFEYH"
      },
      "source": [
        "### Categoricals As Strings"
      ]
    },
    {
      "cell_type": "code",
      "execution_count": 18,
      "metadata": {
        "id": "0xAb61ajFEYH"
      },
      "outputs": [],
      "source": [
        "formats = [\n",
        "    ('hdf', {'key': 'data', 'mode':'w',  'complevel':5, 'complib':'blosc:lz4'}),\n",
        "    ('pickle',),\n",
        "    ('feather',),\n",
        "    ('parquet', {'engine': 'pyarrow'})\n",
        "]"
      ]
    },
    {
      "cell_type": "code",
      "execution_count": 19,
      "metadata": {
        "id": "ZOWBgLvnFEYI",
        "outputId": "33cd5067-48d9-41d0-f0f8-01db4e894fbf",
        "colab": {
          "base_uri": "https://localhost:8080/"
        }
      },
      "outputs": [
        {
          "output_type": "stream",
          "name": "stdout",
          "text": [
            "Benchmarking round #1\n",
            "\tgenerating dataset...\n",
            "\ttesting format: hdf\n",
            "\ttesting format: pickle\n",
            "\ttesting format: feather\n",
            "\ttesting format: parquet\n",
            "Benchmarking round #2\n",
            "\tgenerating dataset...\n",
            "\ttesting format: hdf\n",
            "\ttesting format: pickle\n",
            "\ttesting format: feather\n",
            "\ttesting format: parquet\n"
          ]
        }
      ],
      "source": [
        "results = benchmark(formats, n_rounds=2)"
      ]
    },
    {
      "cell_type": "code",
      "execution_count": 20,
      "metadata": {
        "id": "AAaWmTtQFEYI"
      },
      "outputs": [],
      "source": [
        "results.to_feather('one_million_cats_str.feather')"
      ]
    },
    {
      "cell_type": "code",
      "execution_count": 21,
      "metadata": {
        "id": "0iXE4eohFEYJ"
      },
      "outputs": [],
      "source": [
        "results = feather.read_dataframe('one_million_cats_str.feather')"
      ]
    },
    {
      "cell_type": "code",
      "execution_count": 22,
      "metadata": {
        "id": "ALXE_SMPFEYJ"
      },
      "outputs": [],
      "source": [
        "results = pd.concat([baseline, results], axis=0, sort=False)"
      ]
    },
    {
      "cell_type": "code",
      "execution_count": 23,
      "metadata": {
        "id": "VGNK4QbFFEYJ",
        "outputId": "5350ac87-1ca2-467a-c3fe-42838c7f547d",
        "colab": {
          "base_uri": "https://localhost:8080/",
          "height": 206
        }
      },
      "outputs": [
        {
          "output_type": "execute_result",
          "data": {
            "text/plain": [
              "    format  size_mb  save_ram_delta_mb  save_time  load_ram_delta_mb  \\\n",
              "0      csv  810.120           3.234375  43.278242         404.673828   \n",
              "1  feather  229.560         717.478516   1.653951         634.095703   \n",
              "2      hdf  163.125           4.697266   1.900710         123.738281   \n",
              "3  parquet  128.775         488.107422   2.444796         813.865234   \n",
              "4   pickle  176.825          -0.001953   1.089862          43.875000   \n",
              "\n",
              "   load_time  \n",
              "0  12.453032  \n",
              "1   1.078756  \n",
              "2   2.068860  \n",
              "3   1.498696  \n",
              "4   1.088745  "
            ],
            "text/html": [
              "\n",
              "  <div id=\"df-349112fa-c3b9-41e5-85b3-b566e879d1fe\">\n",
              "    <div class=\"colab-df-container\">\n",
              "      <div>\n",
              "<style scoped>\n",
              "    .dataframe tbody tr th:only-of-type {\n",
              "        vertical-align: middle;\n",
              "    }\n",
              "\n",
              "    .dataframe tbody tr th {\n",
              "        vertical-align: top;\n",
              "    }\n",
              "\n",
              "    .dataframe thead th {\n",
              "        text-align: right;\n",
              "    }\n",
              "</style>\n",
              "<table border=\"1\" class=\"dataframe\">\n",
              "  <thead>\n",
              "    <tr style=\"text-align: right;\">\n",
              "      <th></th>\n",
              "      <th>format</th>\n",
              "      <th>size_mb</th>\n",
              "      <th>save_ram_delta_mb</th>\n",
              "      <th>save_time</th>\n",
              "      <th>load_ram_delta_mb</th>\n",
              "      <th>load_time</th>\n",
              "    </tr>\n",
              "  </thead>\n",
              "  <tbody>\n",
              "    <tr>\n",
              "      <th>0</th>\n",
              "      <td>csv</td>\n",
              "      <td>810.120</td>\n",
              "      <td>3.234375</td>\n",
              "      <td>43.278242</td>\n",
              "      <td>404.673828</td>\n",
              "      <td>12.453032</td>\n",
              "    </tr>\n",
              "    <tr>\n",
              "      <th>1</th>\n",
              "      <td>feather</td>\n",
              "      <td>229.560</td>\n",
              "      <td>717.478516</td>\n",
              "      <td>1.653951</td>\n",
              "      <td>634.095703</td>\n",
              "      <td>1.078756</td>\n",
              "    </tr>\n",
              "    <tr>\n",
              "      <th>2</th>\n",
              "      <td>hdf</td>\n",
              "      <td>163.125</td>\n",
              "      <td>4.697266</td>\n",
              "      <td>1.900710</td>\n",
              "      <td>123.738281</td>\n",
              "      <td>2.068860</td>\n",
              "    </tr>\n",
              "    <tr>\n",
              "      <th>3</th>\n",
              "      <td>parquet</td>\n",
              "      <td>128.775</td>\n",
              "      <td>488.107422</td>\n",
              "      <td>2.444796</td>\n",
              "      <td>813.865234</td>\n",
              "      <td>1.498696</td>\n",
              "    </tr>\n",
              "    <tr>\n",
              "      <th>4</th>\n",
              "      <td>pickle</td>\n",
              "      <td>176.825</td>\n",
              "      <td>-0.001953</td>\n",
              "      <td>1.089862</td>\n",
              "      <td>43.875000</td>\n",
              "      <td>1.088745</td>\n",
              "    </tr>\n",
              "  </tbody>\n",
              "</table>\n",
              "</div>\n",
              "      <button class=\"colab-df-convert\" onclick=\"convertToInteractive('df-349112fa-c3b9-41e5-85b3-b566e879d1fe')\"\n",
              "              title=\"Convert this dataframe to an interactive table.\"\n",
              "              style=\"display:none;\">\n",
              "        \n",
              "  <svg xmlns=\"http://www.w3.org/2000/svg\" height=\"24px\"viewBox=\"0 0 24 24\"\n",
              "       width=\"24px\">\n",
              "    <path d=\"M0 0h24v24H0V0z\" fill=\"none\"/>\n",
              "    <path d=\"M18.56 5.44l.94 2.06.94-2.06 2.06-.94-2.06-.94-.94-2.06-.94 2.06-2.06.94zm-11 1L8.5 8.5l.94-2.06 2.06-.94-2.06-.94L8.5 2.5l-.94 2.06-2.06.94zm10 10l.94 2.06.94-2.06 2.06-.94-2.06-.94-.94-2.06-.94 2.06-2.06.94z\"/><path d=\"M17.41 7.96l-1.37-1.37c-.4-.4-.92-.59-1.43-.59-.52 0-1.04.2-1.43.59L10.3 9.45l-7.72 7.72c-.78.78-.78 2.05 0 2.83L4 21.41c.39.39.9.59 1.41.59.51 0 1.02-.2 1.41-.59l7.78-7.78 2.81-2.81c.8-.78.8-2.07 0-2.86zM5.41 20L4 18.59l7.72-7.72 1.47 1.35L5.41 20z\"/>\n",
              "  </svg>\n",
              "      </button>\n",
              "      \n",
              "  <style>\n",
              "    .colab-df-container {\n",
              "      display:flex;\n",
              "      flex-wrap:wrap;\n",
              "      gap: 12px;\n",
              "    }\n",
              "\n",
              "    .colab-df-convert {\n",
              "      background-color: #E8F0FE;\n",
              "      border: none;\n",
              "      border-radius: 50%;\n",
              "      cursor: pointer;\n",
              "      display: none;\n",
              "      fill: #1967D2;\n",
              "      height: 32px;\n",
              "      padding: 0 0 0 0;\n",
              "      width: 32px;\n",
              "    }\n",
              "\n",
              "    .colab-df-convert:hover {\n",
              "      background-color: #E2EBFA;\n",
              "      box-shadow: 0px 1px 2px rgba(60, 64, 67, 0.3), 0px 1px 3px 1px rgba(60, 64, 67, 0.15);\n",
              "      fill: #174EA6;\n",
              "    }\n",
              "\n",
              "    [theme=dark] .colab-df-convert {\n",
              "      background-color: #3B4455;\n",
              "      fill: #D2E3FC;\n",
              "    }\n",
              "\n",
              "    [theme=dark] .colab-df-convert:hover {\n",
              "      background-color: #434B5C;\n",
              "      box-shadow: 0px 1px 3px 1px rgba(0, 0, 0, 0.15);\n",
              "      filter: drop-shadow(0px 1px 2px rgba(0, 0, 0, 0.3));\n",
              "      fill: #FFFFFF;\n",
              "    }\n",
              "  </style>\n",
              "\n",
              "      <script>\n",
              "        const buttonEl =\n",
              "          document.querySelector('#df-349112fa-c3b9-41e5-85b3-b566e879d1fe button.colab-df-convert');\n",
              "        buttonEl.style.display =\n",
              "          google.colab.kernel.accessAllowed ? 'block' : 'none';\n",
              "\n",
              "        async function convertToInteractive(key) {\n",
              "          const element = document.querySelector('#df-349112fa-c3b9-41e5-85b3-b566e879d1fe');\n",
              "          const dataTable =\n",
              "            await google.colab.kernel.invokeFunction('convertToInteractive',\n",
              "                                                     [key], {});\n",
              "          if (!dataTable) return;\n",
              "\n",
              "          const docLinkHtml = 'Like what you see? Visit the ' +\n",
              "            '<a target=\"_blank\" href=https://colab.research.google.com/notebooks/data_table.ipynb>data table notebook</a>'\n",
              "            + ' to learn more about interactive tables.';\n",
              "          element.innerHTML = '';\n",
              "          dataTable['output_type'] = 'display_data';\n",
              "          await google.colab.output.renderOutput(dataTable, element);\n",
              "          const docLink = document.createElement('div');\n",
              "          docLink.innerHTML = docLinkHtml;\n",
              "          element.appendChild(docLink);\n",
              "        }\n",
              "      </script>\n",
              "    </div>\n",
              "  </div>\n",
              "  "
            ]
          },
          "metadata": {},
          "execution_count": 23
        }
      ],
      "source": [
        "avg = results.groupby('format').mean().reset_index().drop(columns=['run_no'])\n",
        "avg"
      ]
    },
    {
      "cell_type": "code",
      "execution_count": 24,
      "metadata": {
        "id": "8HkfXDjLFEYK",
        "outputId": "8d521052-b110-4733-9902-4dc6eec8d95f",
        "colab": {
          "base_uri": "https://localhost:8080/",
          "height": 552
        }
      },
      "outputs": [
        {
          "output_type": "display_data",
          "data": {
            "text/plain": [
              "<Figure size 792x576 with 1 Axes>"
            ],
            "image/png": "[encoded data removed]"
          },
          "metadata": {
            "needs_background": "light"
          }
        }
      ],
      "source": [
        "io_speed = avg[['format', 'save_time', 'load_time']].melt(id_vars='format')\n",
        "ax = sns.barplot(x='format', y='value', hue='variable', data=io_speed)\n",
        "_ = ax.set_xlabel('File Format')\n",
        "_ = ax.set_ylabel('Seconds')\n",
        "_ = ax.set_title('Time to Save/Load a Data Frame\\n(categories as strings)')\n",
        "ax.grid(True)"
      ]
    },
    {
      "cell_type": "code",
      "execution_count": 25,
      "metadata": {
        "id": "XOUrPgf6FEYL",
        "outputId": "e99f1b25-bc90-4124-ba34-f0b211de2d9c",
        "colab": {
          "base_uri": "https://localhost:8080/",
          "height": 552
        }
      },
      "outputs": [
        {
          "output_type": "display_data",
          "data": {
            "text/plain": [
              "<Figure size 792x576 with 1 Axes>"
            ],
            "image/png": "[encoded data removed]"
          },
          "metadata": {
            "needs_background": "light"
          }
        }
      ],
      "source": [
        "mem_size = avg[['format', 'save_ram_delta_mb', 'load_ram_delta_mb']].melt(id_vars='format')\n",
        "ax = sns.barplot(x='format', y='value', hue='variable', data=mem_size)\n",
        "_ = ax.set_xlabel('File Format')\n",
        "_ = ax.set_ylabel('Memory, Mb')\n",
        "ax.set_title('Memory Consumption Growth When Saving/Loading\\n(categories as strings)')\n",
        "ax.grid(True)"
      ]
    },
    {
      "cell_type": "code",
      "execution_count": 26,
      "metadata": {
        "id": "AOMm0idTFEYL",
        "outputId": "572999e5-bba0-4fb4-9ff5-1a2718d508b5",
        "colab": {
          "base_uri": "https://localhost:8080/",
          "height": 552
        }
      },
      "outputs": [
        {
          "output_type": "display_data",
          "data": {
            "text/plain": [
              "<Figure size 792x576 with 1 Axes>"
            ],
            "image/png": "[encoded data removed]"
          },
          "metadata": {
            "needs_background": "light"
          }
        }
      ],
      "source": [
        "ax = sns.barplot(x='format', y='size_mb', data=avg)\n",
        "_ = ax.set_xlabel('Memory, Mb')\n",
        "_ = ax.set_ylabel('File Format')\n",
        "_ = ax.set_title('Serialized File Size\\n(categories as strings)')"
      ]
    },
    {
      "cell_type": "markdown",
      "metadata": {
        "id": "SBGbHozVFEYM"
      },
      "source": [
        "### Categoricals As Dedicated Category Type"
      ]
    },
    {
      "cell_type": "code",
      "source": [
        "formats = [\n",
        "    ('hdf', {'key': 'data', 'mode':'w',  'complevel':5, 'complib':'blosc:lz4', 'format':'table'}),\n",
        "    ('pickle',),\n",
        "    ('feather',),\n",
        "    ('parquet', {'engine': 'pyarrow'})\n",
        "]"
      ],
      "metadata": {
        "id": "abznrBV_OrZg"
      },
      "execution_count": 30,
      "outputs": []
    },
    {
      "cell_type": "code",
      "execution_count": 32,
      "metadata": {
        "id": "2lFYLuwwFEYM",
        "outputId": "a3efd8df-43fa-4c8a-fc91-f573dd155ad5",
        "colab": {
          "base_uri": "https://localhost:8080/"
        }
      },
      "outputs": [
        {
          "output_type": "stream",
          "name": "stdout",
          "text": [
            "Benchmarking round #1\n",
            "\tgenerating dataset...\n",
            "\tconverting categorical columns into pandas.Category\n",
            "\ttesting format: hdf\n",
            "\ttesting format: pickle\n",
            "\ttesting format: feather\n",
            "\ttesting format: parquet\n",
            "Benchmarking round #2\n",
            "\tgenerating dataset...\n",
            "\tconverting categorical columns into pandas.Category\n",
            "\ttesting format: hdf\n",
            "\ttesting format: pickle\n",
            "\ttesting format: feather\n",
            "\ttesting format: parquet\n"
          ]
        }
      ],
      "source": [
        "results = benchmark(formats, as_category=True, n_rounds=2)"
      ]
    },
    {
      "cell_type": "code",
      "execution_count": 33,
      "metadata": {
        "id": "zjVTkODyFEYN"
      },
      "outputs": [],
      "source": [
        "results.to_feather('one_million_cats_category.feather')"
      ]
    },
    {
      "cell_type": "code",
      "execution_count": 34,
      "metadata": {
        "id": "BEzyok6cFEYN"
      },
      "outputs": [],
      "source": [
        "results  = feather.read_dataframe('one_million_cats_category.feather')"
      ]
    },
    {
      "cell_type": "code",
      "execution_count": 35,
      "metadata": {
        "id": "rarGkP1fFEYO"
      },
      "outputs": [],
      "source": [
        "results = pd.concat([baseline, results], axis=0)"
      ]
    },
    {
      "cell_type": "code",
      "execution_count": 36,
      "metadata": {
        "id": "-krpv9PbFEYO",
        "outputId": "24d54799-90ec-42bf-968e-bdf11ec7c0a2",
        "colab": {
          "base_uri": "https://localhost:8080/",
          "height": 206
        }
      },
      "outputs": [
        {
          "output_type": "execute_result",
          "data": {
            "text/plain": [
              "    format  size_mb  save_ram_delta_mb  save_time  load_ram_delta_mb  \\\n",
              "0      csv   810.12           3.234375  43.278242         404.673828   \n",
              "1  feather   128.28          16.519531   0.414854         243.468750   \n",
              "2      hdf   123.25           0.283203   2.190795          -0.019531   \n",
              "3  parquet   129.14          28.671875   1.030294         390.824219   \n",
              "4   pickle   128.78          -0.023438   0.286576          -0.023438   \n",
              "\n",
              "   load_time  \n",
              "0  12.453032  \n",
              "1   0.282968  \n",
              "2   1.400375  \n",
              "3   0.584644  \n",
              "4   0.234592  "
            ],
            "text/html": [
              "\n",
              "  <div id=\"df-5714d221-4674-4b92-9a1f-8f6f779af05a\">\n",
              "    <div class=\"colab-df-container\">\n",
              "      <div>\n",
              "<style scoped>\n",
              "    .dataframe tbody tr th:only-of-type {\n",
              "        vertical-align: middle;\n",
              "    }\n",
              "\n",
              "    .dataframe tbody tr th {\n",
              "        vertical-align: top;\n",
              "    }\n",
              "\n",
              "    .dataframe thead th {\n",
              "        text-align: right;\n",
              "    }\n",
              "</style>\n",
              "<table border=\"1\" class=\"dataframe\">\n",
              "  <thead>\n",
              "    <tr style=\"text-align: right;\">\n",
              "      <th></th>\n",
              "      <th>format</th>\n",
              "      <th>size_mb</th>\n",
              "      <th>save_ram_delta_mb</th>\n",
              "      <th>save_time</th>\n",
              "      <th>load_ram_delta_mb</th>\n",
              "      <th>load_time</th>\n",
              "    </tr>\n",
              "  </thead>\n",
              "  <tbody>\n",
              "    <tr>\n",
              "      <th>0</th>\n",
              "      <td>csv</td>\n",
              "      <td>810.12</td>\n",
              "      <td>3.234375</td>\n",
              "      <td>43.278242</td>\n",
              "      <td>404.673828</td>\n",
              "      <td>12.453032</td>\n",
              "    </tr>\n",
              "    <tr>\n",
              "      <th>1</th>\n",
              "      <td>feather</td>\n",
              "      <td>128.28</td>\n",
              "      <td>16.519531</td>\n",
              "      <td>0.414854</td>\n",
              "      <td>243.468750</td>\n",
              "      <td>0.282968</td>\n",
              "    </tr>\n",
              "    <tr>\n",
              "      <th>2</th>\n",
              "      <td>hdf</td>\n",
              "      <td>123.25</td>\n",
              "      <td>0.283203</td>\n",
              "      <td>2.190795</td>\n",
              "      <td>-0.019531</td>\n",
              "      <td>1.400375</td>\n",
              "    </tr>\n",
              "    <tr>\n",
              "      <th>3</th>\n",
              "      <td>parquet</td>\n",
              "      <td>129.14</td>\n",
              "      <td>28.671875</td>\n",
              "      <td>1.030294</td>\n",
              "      <td>390.824219</td>\n",
              "      <td>0.584644</td>\n",
              "    </tr>\n",
              "    <tr>\n",
              "      <th>4</th>\n",
              "      <td>pickle</td>\n",
              "      <td>128.78</td>\n",
              "      <td>-0.023438</td>\n",
              "      <td>0.286576</td>\n",
              "      <td>-0.023438</td>\n",
              "      <td>0.234592</td>\n",
              "    </tr>\n",
              "  </tbody>\n",
              "</table>\n",
              "</div>\n",
              "      <button class=\"colab-df-convert\" onclick=\"convertToInteractive('df-5714d221-4674-4b92-9a1f-8f6f779af05a')\"\n",
              "              title=\"Convert this dataframe to an interactive table.\"\n",
              "              style=\"display:none;\">\n",
              "        \n",
              "  <svg xmlns=\"http://www.w3.org/2000/svg\" height=\"24px\"viewBox=\"0 0 24 24\"\n",
              "       width=\"24px\">\n",
              "    <path d=\"M0 0h24v24H0V0z\" fill=\"none\"/>\n",
              "    <path d=\"M18.56 5.44l.94 2.06.94-2.06 2.06-.94-2.06-.94-.94-2.06-.94 2.06-2.06.94zm-11 1L8.5 8.5l.94-2.06 2.06-.94-2.06-.94L8.5 2.5l-.94 2.06-2.06.94zm10 10l.94 2.06.94-2.06 2.06-.94-2.06-.94-.94-2.06-.94 2.06-2.06.94z\"/><path d=\"M17.41 7.96l-1.37-1.37c-.4-.4-.92-.59-1.43-.59-.52 0-1.04.2-1.43.59L10.3 9.45l-7.72 7.72c-.78.78-.78 2.05 0 2.83L4 21.41c.39.39.9.59 1.41.59.51 0 1.02-.2 1.41-.59l7.78-7.78 2.81-2.81c.8-.78.8-2.07 0-2.86zM5.41 20L4 18.59l7.72-7.72 1.47 1.35L5.41 20z\"/>\n",
              "  </svg>\n",
              "      </button>\n",
              "      \n",
              "  <style>\n",
              "    .colab-df-container {\n",
              "      display:flex;\n",
              "      flex-wrap:wrap;\n",
              "      gap: 12px;\n",
              "    }\n",
              "\n",
              "    .colab-df-convert {\n",
              "      background-color: #E8F0FE;\n",
              "      border: none;\n",
              "      border-radius: 50%;\n",
              "      cursor: pointer;\n",
              "      display: none;\n",
              "      fill: #1967D2;\n",
              "      height: 32px;\n",
              "      padding: 0 0 0 0;\n",
              "      width: 32px;\n",
              "    }\n",
              "\n",
              "    .colab-df-convert:hover {\n",
              "      background-color: #E2EBFA;\n",
              "      box-shadow: 0px 1px 2px rgba(60, 64, 67, 0.3), 0px 1px 3px 1px rgba(60, 64, 67, 0.15);\n",
              "      fill: #174EA6;\n",
              "    }\n",
              "\n",
              "    [theme=dark] .colab-df-convert {\n",
              "      background-color: #3B4455;\n",
              "      fill: #D2E3FC;\n",
              "    }\n",
              "\n",
              "    [theme=dark] .colab-df-convert:hover {\n",
              "      background-color: #434B5C;\n",
              "      box-shadow: 0px 1px 3px 1px rgba(0, 0, 0, 0.15);\n",
              "      filter: drop-shadow(0px 1px 2px rgba(0, 0, 0, 0.3));\n",
              "      fill: #FFFFFF;\n",
              "    }\n",
              "  </style>\n",
              "\n",
              "      <script>\n",
              "        const buttonEl =\n",
              "          document.querySelector('#df-5714d221-4674-4b92-9a1f-8f6f779af05a button.colab-df-convert');\n",
              "        buttonEl.style.display =\n",
              "          google.colab.kernel.accessAllowed ? 'block' : 'none';\n",
              "\n",
              "        async function convertToInteractive(key) {\n",
              "          const element = document.querySelector('#df-5714d221-4674-4b92-9a1f-8f6f779af05a');\n",
              "          const dataTable =\n",
              "            await google.colab.kernel.invokeFunction('convertToInteractive',\n",
              "                                                     [key], {});\n",
              "          if (!dataTable) return;\n",
              "\n",
              "          const docLinkHtml = 'Like what you see? Visit the ' +\n",
              "            '<a target=\"_blank\" href=https://colab.research.google.com/notebooks/data_table.ipynb>data table notebook</a>'\n",
              "            + ' to learn more about interactive tables.';\n",
              "          element.innerHTML = '';\n",
              "          dataTable['output_type'] = 'display_data';\n",
              "          await google.colab.output.renderOutput(dataTable, element);\n",
              "          const docLink = document.createElement('div');\n",
              "          docLink.innerHTML = docLinkHtml;\n",
              "          element.appendChild(docLink);\n",
              "        }\n",
              "      </script>\n",
              "    </div>\n",
              "  </div>\n",
              "  "
            ]
          },
          "metadata": {},
          "execution_count": 36
        }
      ],
      "source": [
        "avg = results.groupby('format').mean().reset_index().drop(columns=['run_no'])\n",
        "avg"
      ]
    },
    {
      "cell_type": "code",
      "execution_count": 37,
      "metadata": {
        "id": "4VDN2S10FEYP",
        "outputId": "5961592b-71ea-4e72-b6a0-25b9d6d85ca2",
        "colab": {
          "base_uri": "https://localhost:8080/",
          "height": 552
        }
      },
      "outputs": [
        {
          "output_type": "display_data",
          "data": {
            "text/plain": [
              "<Figure size 792x576 with 1 Axes>"
            ],
            "image/png": "[encoded data removed]"
          },
          "metadata": {
            "needs_background": "light"
          }
        }
      ],
      "source": [
        "io_speed = avg[['format', 'save_time', 'load_time']].melt(id_vars='format')\n",
        "ax = sns.barplot(x='format', y='value', hue='variable', data=io_speed)\n",
        "_ = ax.set_xlabel('File Format')\n",
        "_ = ax.set_ylabel('Seconds')\n",
        "_ = ax.set_title('Time to Save/Load a Data Frame\\n(categories as pd.Categorical)')\n",
        "ax.grid(True)"
      ]
    },
    {
      "cell_type": "code",
      "execution_count": 38,
      "metadata": {
        "id": "Im0ZajiBFEYP"
      },
      "outputs": [],
      "source": [
        "results  = feather.read_dataframe('one_million_cats_category.feather')"
      ]
    },
    {
      "cell_type": "code",
      "execution_count": 39,
      "metadata": {
        "id": "uQiCAnuuFEYQ"
      },
      "outputs": [],
      "source": [
        "avg = results.groupby('format').mean().reset_index().drop(columns=['run_no'])"
      ]
    },
    {
      "cell_type": "code",
      "execution_count": 40,
      "metadata": {
        "id": "cMBRD_dzFEYQ",
        "outputId": "f3804cd5-a1fd-4879-bfdc-9bea076e57b8",
        "colab": {
          "base_uri": "https://localhost:8080/",
          "height": 552
        }
      },
      "outputs": [
        {
          "output_type": "display_data",
          "data": {
            "text/plain": [
              "<Figure size 792x576 with 1 Axes>"
            ],
            "image/png": "[encoded data removed]"
          },
          "metadata": {
            "needs_background": "light"
          }
        }
      ],
      "source": [
        "io_speed = avg[['format', 'save_time', 'load_time']].melt(id_vars='format')\n",
        "ax = sns.barplot(x='format', y='value', hue='variable', data=io_speed)\n",
        "_ = ax.set_xlabel('File Format')\n",
        "_ = ax.set_ylabel('Seconds')\n",
        "_ = ax.set_title('Time to Save/Load a Data Frame\\n(categories as pd.Categorical)')\n",
        "ax.grid(True)"
      ]
    },
    {
      "cell_type": "code",
      "execution_count": 41,
      "metadata": {
        "id": "xdMUqbvvFEYR",
        "outputId": "6975511b-bbcb-4d3d-ebf5-49be4db90e49",
        "colab": {
          "base_uri": "https://localhost:8080/",
          "height": 552
        }
      },
      "outputs": [
        {
          "output_type": "display_data",
          "data": {
            "text/plain": [
              "<Figure size 792x576 with 1 Axes>"
            ],
            "image/png": "[encoded data removed]"
          },
          "metadata": {
            "needs_background": "light"
          }
        }
      ],
      "source": [
        "mem_size = avg[['format', 'save_ram_delta_mb', 'load_ram_delta_mb']].melt(id_vars='format')\n",
        "ax = sns.barplot(x='format', y='value', hue='variable', data=mem_size)\n",
        "_ = ax.set_xlabel('File Format')\n",
        "_ = ax.set_ylabel('Memory, Mb')\n",
        "ax.set_title('Memory Consumption Growth When Saving/Loading\\n(categories as pd.Categorical)')\n",
        "ax.grid(True)"
      ]
    },
    {
      "cell_type": "code",
      "execution_count": 42,
      "metadata": {
        "id": "ePHbDujuFEYR",
        "outputId": "99fa2130-e596-4cf6-cfad-51608580ea39",
        "colab": {
          "base_uri": "https://localhost:8080/",
          "height": 552
        }
      },
      "outputs": [
        {
          "output_type": "display_data",
          "data": {
            "text/plain": [
              "<Figure size 792x576 with 1 Axes>"
            ],
            "image/png": "[encoded data removed]"
          },
          "metadata": {
            "needs_background": "light"
          }
        }
      ],
      "source": [
        "ax = sns.barplot(x='format', y='size_mb', data=avg)\n",
        "_ = ax.set_xlabel('Memory, Mb')\n",
        "_ = ax.set_ylabel('File Format')\n",
        "_ = ax.set_title('Serialized File Size\\n(categories as pd.Categorical)')"
      ]
    },
    {
      "cell_type": "code",
      "execution_count": 88,
      "metadata": {
        "id": "ji-yxB9gFEYS"
      },
      "outputs": [],
      "source": [
        ""
      ]
    }
  ],
  "metadata": {
    "kernelspec": {
      "display_name": "Python 3",
      "language": "python",
      "name": "python3"
    },
    "language_info": {
      "codemirror_mode": {
        "name": "ipython",
        "version": 3
      },
      "file_extension": ".py",
      "mimetype": "text/x-python",
      "name": "python",
      "nbconvert_exporter": "python",
      "pygments_lexer": "ipython3",
      "version": "3.7.1"
    },
    "toc": {
      "base_numbering": 1,
      "nav_menu": {},
      "number_sections": true,
      "sideBar": true,
      "skip_h1_title": false,
      "title_cell": "Table of Contents",
      "title_sidebar": "Contents",
      "toc_cell": false,
      "toc_position": {},
      "toc_section_display": true,
      "toc_window_display": false
    },
    "colab": {
      "name": "benchmark.ipynb",
      "provenance": []
    }
  },
  "nbformat": 4,
  "nbformat_minor": 0
}